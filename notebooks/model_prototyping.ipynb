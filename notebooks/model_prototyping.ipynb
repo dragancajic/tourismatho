{
 "cells": [
  {
   "cell_type": "code",
   "execution_count": 71,
   "metadata": {},
   "outputs": [
    {
     "name": "stdout",
     "output_type": "stream",
     "text": [
      "Everything looks great! 😊\n"
     ]
    }
   ],
   "source": [
    "import numpy as np\n",
    "import pandas as pd\n",
    "import matplotlib.pyplot as plt\n",
    "import seaborn as sns\n",
    "sns.set_theme()\n",
    "\n",
    "import warnings\n",
    "warnings.filterwarnings('ignore')\n",
    "\n",
    "from geopy.geocoders import Nominatim\n",
    "\n",
    "import statsmodels.api as sm\n",
    "from sklearn.cluster import KMeans\n",
    "%matplotlib inline\n",
    "\n",
    "df = pd.read_csv('../data/locations.csv')\n",
    "\n",
    "print(\"Everything looks great! 😊\")"
   ]
  },
  {
   "cell_type": "code",
   "execution_count": 73,
   "metadata": {},
   "outputs": [
    {
     "name": "stdout",
     "output_type": "stream",
     "text": [
      "<geopy.geocoders.nominatim.Nominatim object at 0x7f6732203b20>\n"
     ]
    }
   ],
   "source": [
    "entity = 'Republic of Srpska'\n",
    "city_names = df['location']\n",
    "\n",
    "latitude = []\n",
    "longitude = []\n",
    "geolocator = Nominatim(user_agent=\"Trips\")\n",
    "\n",
    "print(geolocator)\n",
    "\n",
    "for city in city_names.values:\n",
    "    location = geolocator.geocode(city + ',' + entity)\n",
    "    latitude.append(location.latitude)\n",
    "    longitude.append(location.longitude)\n"
   ]
  },
  {
   "cell_type": "code",
   "execution_count": 74,
   "metadata": {},
   "outputs": [],
   "source": [
    "df['Latitude'] = latitude\n",
    "df['Longitude'] = longitude"
   ]
  },
  {
   "cell_type": "code",
   "execution_count": 77,
   "metadata": {},
   "outputs": [
    {
     "name": "stdout",
     "output_type": "stream",
     "text": [
      "     Latitude  Longitude\n",
      "0   44.772084  17.191765\n",
      "1   44.976709  17.906959\n",
      "2   44.907466  17.302289\n",
      "3   45.180231  16.810337\n",
      "4   45.146563  17.255145\n",
      "5   44.868637  17.663178\n",
      "6   44.980504  16.713120\n",
      "7   45.048986  16.377650\n",
      "8   45.143477  18.006132\n",
      "9   45.096300  17.519924\n",
      "10  44.416602  17.084259\n",
      "11  44.280943  17.085305\n",
      "12  45.218708  16.546319\n",
      "13  42.872070  18.428485\n",
      "14  43.504312  18.446719\n",
      "15  43.258077  18.113608\n",
      "16  42.951543  18.089920\n",
      "17  44.184999  19.332185\n",
      "18  44.106319  19.295278\n",
      "19  43.786429  19.294097\n",
      "20  44.167939  19.080063\n",
      "21  44.183067  18.941964\n",
      "22  44.297809  18.852378\n",
      "23  43.935052  18.797717\n",
      "24  44.956524  18.301135\n",
      "25  43.648105  19.036343\n",
      "26  43.799737  19.002206\n",
      "27  42.709829  18.345726\n",
      "28  44.081289  18.953064\n",
      "29  43.617411  19.366651\n",
      "30  44.385407  19.102772\n",
      "31  44.606576  17.859506\n",
      "32  43.505855  18.774393\n",
      "33  44.401942  16.802080\n",
      "34  44.756846  19.215663\n",
      "35  44.731361  18.084718\n",
      "36  44.350010  17.170955\n",
      "37  44.489932  17.380091\n",
      "38  43.898353  18.733217\n",
      "39  44.620480  17.369802\n",
      "40  44.635650  18.844114\n",
      "41  44.402049  18.918057\n",
      "42  44.906424  18.611912\n",
      "43  44.632599  18.360981\n",
      "44  44.693053  18.994599\n",
      "45  43.556820  19.071545\n",
      "46  45.060689  18.469347\n",
      "47  44.724173  17.319359\n",
      "48  44.506975  16.464734\n",
      "49  43.814105  18.569269\n",
      "50  43.166407  18.535798\n"
     ]
    }
   ],
   "source": [
    "lats_longs = df.iloc[:,1:]\n",
    "print(lats_longs)"
   ]
  },
  {
   "cell_type": "code",
   "execution_count": 78,
   "metadata": {},
   "outputs": [
    {
     "name": "stdout",
     "output_type": "stream",
     "text": [
      "[1, 0, 1, 1, 1, 1, 1, 1, 0, 1, 1, 1, 1, 2, 2, 2, 2, 2, 2, 2, 2, 2, 0, 2, 0, 2, 2, 2, 2, 2, 0, 0, 2, 1, 0, 0, 1, 1, 2, 1, 0, 0, 0, 0, 0, 2, 0, 1, 1, 2, 2]\n",
      "51\n"
     ]
    }
   ],
   "source": [
    "#print(longitude)\n",
    "#print(latitude)\n",
    "# 3 Clusters, for now: NORTH-WEST, NORTH-EAST and SOUTH of Republic of Srpska\n",
    "kmeans = KMeans(3)\n",
    "kmeans.fit(lats_longs)\n",
    "\n",
    "identified_clusters = kmeans.fit_predict(lats_longs)\n",
    "identified_clusters = list(identified_clusters)\n",
    "\n",
    "print(identified_clusters)\n",
    "print(len(identified_clusters))"
   ]
  },
  {
   "cell_type": "code",
   "execution_count": 80,
   "metadata": {},
   "outputs": [
    {
     "name": "stdout",
     "output_type": "stream",
     "text": [
      "                 location   Latitude  Longitude  location_cluster\n",
      "0              Banja Luka  44.772084  17.191765                 1\n",
      "1                Derventa  44.976709  17.906959                 0\n",
      "2                 Laktaši  44.907466  17.302289                 1\n",
      "3         Kozarska Dubica  45.180231  16.810337                 1\n",
      "4                Gradiška  45.146563  17.255145                 1\n",
      "5                Prnjavor  44.868637  17.663178                 1\n",
      "6                Prijedor  44.980504  16.713120                 1\n",
      "7               Novi Grad  45.048986  16.377650                 1\n",
      "8                    Brod  45.143477  18.006132                 0\n",
      "9                   Srbac  45.096300  17.519924                 1\n",
      "10          Mrkonjić Grad  44.416602  17.084259                 1\n",
      "11                 Šipovo  44.280943  17.085305                 1\n",
      "12             Kostajnica  45.218708  16.546319                 1\n",
      "13                 Bileća  42.872070  18.428485                 2\n",
      "14              Kalinovik  43.504312  18.446719                 2\n",
      "15              Nevesinje  43.258077  18.113608                 2\n",
      "16               Ljubinje  42.951543  18.089920                 2\n",
      "17               Bratunac  44.184999  19.332185                 2\n",
      "18             Srebrenica  44.106319  19.295278                 2\n",
      "19               Višegrad  43.786429  19.294097                 2\n",
      "20                 Milići  44.167939  19.080063                 2\n",
      "21              Vlasenica  44.183067  18.941964                 2\n",
      "22               Šekovići  44.297809  18.852378                 0\n",
      "23                Sokolac  43.935052  18.797717                 2\n",
      "24                Modriča  44.956524  18.301135                 0\n",
      "25           Novo Goražde  43.648105  19.036343                 2\n",
      "26               Rogatica  43.799737  19.002206                 2\n",
      "27               Trebinje  42.709829  18.345726                 2\n",
      "28            Han Pijesak  44.081289  18.953064                 2\n",
      "29                   Rudo  43.617411  19.366651                 2\n",
      "30                Zvornik  44.385407  19.102772                 0\n",
      "31                 Teslić  44.606576  17.859506                 0\n",
      "32                   Foča  43.505855  18.774393                 2\n",
      "33                 Ribnik  44.401942  16.802080                 1\n",
      "34              Bijeljina  44.756846  19.215663                 0\n",
      "35                  Doboj  44.731361  18.084718                 0\n",
      "36                 Jezero  44.350010  17.170955                 1\n",
      "37                Kneževo  44.489932  17.380091                 1\n",
      "38  Grad Istočno Sarajevo  43.898353  18.733217                 2\n",
      "39            Kotor Varoš  44.620480  17.369802                 1\n",
      "40                 Lopare  44.635650  18.844114                 0\n",
      "41                 Osmaci  44.402049  18.918057                 0\n",
      "42             Pelagićevo  44.906424  18.611912                 0\n",
      "43                Petrovo  44.632599  18.360981                 0\n",
      "44               Ugljevik  44.693053  18.994599                 0\n",
      "45                Čajniče  43.556820  19.071545                 2\n",
      "46                  Šamac  45.060689  18.469347                 0\n",
      "47                Čelinac  44.724173  17.319359                 1\n",
      "48                 Drinić  44.506975  16.464734                 1\n",
      "49                   Pale  43.814105  18.569269                 2\n",
      "50                  Gacko  43.166407  18.535798                 2\n"
     ]
    }
   ],
   "source": [
    "df['location_cluster'] = identified_clusters\n",
    "print(df)"
   ]
  },
  {
   "cell_type": "code",
   "execution_count": 82,
   "metadata": {},
   "outputs": [
    {
     "name": "stdout",
     "output_type": "stream",
     "text": [
      "Banja Luka\n",
      "Laktaši\n",
      "Kozarska Dubica\n",
      "Gradiška\n",
      "Prnjavor\n",
      "Prijedor\n",
      "Novi Grad\n",
      "Srbac\n",
      "Mrkonjić Grad\n",
      "Šipovo\n",
      "Kostajnica\n",
      "Ribnik\n",
      "Jezero\n",
      "Kneževo\n",
      "Kotor Varoš\n",
      "Čelinac\n"
     ]
    }
   ],
   "source": [
    "# try to take hystorical data about user's trips\n",
    "city_name = input('Please enter a city of you previous trip: ')\n",
    "cluster = df.loc[df['location'] == city_name, 'location_cluster']\n",
    "#print(cluster)\n",
    "cluster = cluster.iloc[0]\n",
    "#print(cluster)\n",
    "\n",
    "cities = df.loc[df['location_cluster'] == cluster, 'location']\n",
    "#print(cities)\n",
    "#print(len(cities))\n",
    "\n",
    "for city_index in range(len(cities)):\n",
    "    if cities.iloc[city_index] == city_name:\n",
    "        continue\n",
    "    else:\n",
    "        print(cities.iloc[city_index])\n"
   ]
  }
 ],
 "metadata": {
  "kernelspec": {
   "display_name": "Python 3 (ipykernel)",
   "language": "python",
   "name": "python3"
  },
  "language_info": {
   "codemirror_mode": {
    "name": "ipython",
    "version": 3
   },
   "file_extension": ".py",
   "mimetype": "text/x-python",
   "name": "python",
   "nbconvert_exporter": "python",
   "pygments_lexer": "ipython3",
   "version": "3.10.1"
  }
 },
 "nbformat": 4,
 "nbformat_minor": 4
}
